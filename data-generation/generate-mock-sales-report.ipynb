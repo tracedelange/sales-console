{
 "cells": [
  {
   "cell_type": "markdown",
   "metadata": {},
   "source": [
    "The purpose of this file is to develop code that will produe fake JSON files which can be used as a json-server for the sales-console:\n"
   ]
  },
  {
   "cell_type": "code",
   "execution_count": 1,
   "metadata": {},
   "outputs": [],
   "source": [
    "import random\n",
    "import csv\n",
    "import json"
   ]
  },
  {
   "cell_type": "code",
   "execution_count": 2,
   "metadata": {},
   "outputs": [],
   "source": [
    "author_file = open('authors.txt', 'r')\n",
    "authors = author_file.readlines()\n",
    "authors = [x.strip() for x in authors]\n",
    "\n",
    "#content = [x.strip() for x in content]\n",
    "\n",
    "noun_file = open('nouns.txt', 'r')\n",
    "nouns = noun_file.readlines()\n",
    "nouns = [x.strip() for x in nouns]"
   ]
  },
  {
   "cell_type": "code",
   "execution_count": 3,
   "metadata": {},
   "outputs": [
    {
     "data": {
      "text/plain": [
       "'02/12/2008'"
      ]
     },
     "execution_count": 3,
     "metadata": {},
     "output_type": "execute_result"
    }
   ],
   "source": [
    "#https://stackoverflow.com/questions/553303/generate-a-random-date-between-two-other-dates\n",
    "\n",
    "import random\n",
    "import time\n",
    "    \n",
    "def str_time_prop(start, end, time_format, prop):\n",
    "    \"\"\"Get a time at a proportion of a range of two formatted times.\n",
    "\n",
    "    start and end should be strings specifying times formatted in the\n",
    "    given format (strftime-style), giving an interval [start, end].\n",
    "    prop specifies how a proportion of the interval to be taken after\n",
    "    start.  The returned time will be in the specified format.\n",
    "    \"\"\"\n",
    "\n",
    "    stime = time.mktime(time.strptime(start, time_format))\n",
    "    etime = time.mktime(time.strptime(end, time_format))\n",
    "\n",
    "    ptime = stime + prop * (etime - stime)\n",
    "\n",
    "    return time.strftime(time_format, time.localtime(ptime))\n",
    "\n",
    "\n",
    "def random_date(start, end, prop):\n",
    "    return str_time_prop(start, end, '%m/%d/%Y', prop)\n",
    "    \n",
    "random_date(\"1/1/2008\", \"1/1/2009\", random.random())"
   ]
  },
  {
   "cell_type": "code",
   "execution_count": 4,
   "metadata": {},
   "outputs": [],
   "source": [
    "def generate_products(n_products):\n",
    "    products = []\n",
    "    for i in range(n_products):\n",
    "        first_index = random.randint(0, len(nouns)) - 1\n",
    "        second_index = random.randint(0, len(nouns)) - 1\n",
    "        \n",
    "        product = nouns[first_index] + \" \" + nouns[second_index]\n",
    "        cost = random.randint(0,500)\n",
    "        \n",
    "        products.append([product, cost])\n",
    "        \n",
    "    return products"
   ]
  },
  {
   "cell_type": "code",
   "execution_count": 5,
   "metadata": {},
   "outputs": [],
   "source": [
    "def generate_orders(n_orders_per_customers):\n",
    "    \n",
    "    \n",
    "    adjuster = random.randint((-n_orders_per_customers)+1, n_orders_per_customers)\n",
    "    \n",
    "    adjusted_n_orders = n_orders_per_customers + adjuster\n",
    "    \n",
    "    orders = []\n",
    "        \n",
    "    for i in range(adjusted_n_orders):\n",
    "        product_index = random.randint(0, len(products)) - 1\n",
    "        product = products[product_index]\n",
    "        \n",
    "        saleDate = random_date(\"1/1/2012\", \"7/20/2021\", random.random())\n",
    "        \n",
    "        order = {\n",
    "            'productPurchased' : product,\n",
    "            'orderDate' : saleDate\n",
    "        }\n",
    "        \n",
    "        orders.append(order)\n",
    "    \n",
    "    return orders"
   ]
  },
  {
   "cell_type": "code",
   "execution_count": 6,
   "metadata": {},
   "outputs": [],
   "source": [
    "def generate_customer(n_orders_per_customers):\n",
    "    \n",
    "    \n",
    "    author_index = random.randint(0, len(authors)) - 1\n",
    "    \n",
    "    customer = {}\n",
    "    \n",
    "    orders = generate_orders(n_orders_per_customers)\n",
    "    \n",
    "    customer['customerName'] = authors[author_index]\n",
    "    customer['orders'] = orders\n",
    "    \n",
    "    return customer \n",
    "    "
   ]
  },
  {
   "cell_type": "code",
   "execution_count": 23,
   "metadata": {},
   "outputs": [],
   "source": [
    "def generate_db(products, n_customers, n_orders_per_customer):\n",
    "    \n",
    "    report = {}\n",
    "    \n",
    "    for i in range(n_customers):\n",
    "        #Generate customer\n",
    "        #Generate product Ordered\n",
    "        #Generate date o\n",
    "        customer = generate_customer(n_orders_per_customer)\n",
    "        \n",
    "        report[i] = customer\n",
    "    \n",
    "        \n",
    "    db = {\n",
    "        'orders' : report,\n",
    "        'products' : products\n",
    "    }\n",
    "    \n",
    "\n",
    "    return db"
   ]
  },
  {
   "cell_type": "markdown",
   "metadata": {},
   "source": [
    "## The following cell is all that is needed to generate a new report:"
   ]
  },
  {
   "cell_type": "code",
   "execution_count": 24,
   "metadata": {},
   "outputs": [],
   "source": [
    "#Generate a static list of fake products\n",
    "products = generate_products(15)"
   ]
  },
  {
   "cell_type": "code",
   "execution_count": 25,
   "metadata": {},
   "outputs": [
    {
     "data": {
      "text/plain": [
       "[['calm chaise', 171],\n",
       " ['leprosy capon', 475],\n",
       " ['futon fascia', 147],\n",
       " ['shoot distribution', 162],\n",
       " ['plaster signal', 267],\n",
       " ['donor sturgeon', 99],\n",
       " ['inevitable hair', 316],\n",
       " ['extreme freedom', 264],\n",
       " ['area misogyny', 438],\n",
       " ['robotics carnival', 68],\n",
       " ['supervision administrator', 484],\n",
       " ['paddle diagram', 2],\n",
       " ['arrest roster', 67],\n",
       " ['tic past', 488],\n",
       " ['judo manufacturing', 284]]"
      ]
     },
     "execution_count": 25,
     "metadata": {},
     "output_type": "execute_result"
    }
   ],
   "source": [
    "products"
   ]
  },
  {
   "cell_type": "code",
   "execution_count": 26,
   "metadata": {},
   "outputs": [],
   "source": [
    "\n",
    "\n",
    "#Generate a report based on those products\n",
    "report = generate_db(products, 100, 15)\n",
    "\n",
    "#Write that report to JSON format\n",
    "with open('report.json', 'w') as outfile:\n",
    "    json.dump(report, outfile)"
   ]
  },
  {
   "cell_type": "code",
   "execution_count": null,
   "metadata": {},
   "outputs": [],
   "source": []
  },
  {
   "cell_type": "code",
   "execution_count": null,
   "metadata": {},
   "outputs": [],
   "source": []
  },
  {
   "cell_type": "code",
   "execution_count": null,
   "metadata": {},
   "outputs": [],
   "source": []
  }
 ],
 "metadata": {
  "interpreter": {
   "hash": "31f2aee4e71d21fbe5cf8b01ff0e069b9275f58929596ceb00d14d90e3e16cd6"
  },
  "kernelspec": {
   "display_name": "Python 3",
   "language": "python",
   "name": "python3"
  },
  "language_info": {
   "codemirror_mode": {
    "name": "ipython",
    "version": 3
   },
   "file_extension": ".py",
   "mimetype": "text/x-python",
   "name": "python",
   "nbconvert_exporter": "python",
   "pygments_lexer": "ipython3",
   "version": "3.7.4"
  }
 },
 "nbformat": 4,
 "nbformat_minor": 4
}
